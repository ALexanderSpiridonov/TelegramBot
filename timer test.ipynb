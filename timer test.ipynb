{
 "cells": [
  {
   "cell_type": "code",
   "execution_count": 44,
   "id": "082c5e2c",
   "metadata": {},
   "outputs": [
    {
     "data": {
      "text/plain": [
       "{'content_type': 'text',\n",
       " 'id': 163,\n",
       " 'message_id': 163,\n",
       " 'from_user': {'id': 76016759,\n",
       "  'is_bot': False,\n",
       "  'first_name': 'Alexander',\n",
       "  'username': 'imthecarpenter',\n",
       "  'last_name': 'Spiridonov',\n",
       "  'language_code': 'en',\n",
       "  'can_join_groups': None,\n",
       "  'can_read_all_group_messages': None,\n",
       "  'supports_inline_queries': None},\n",
       " 'date': 1653682781,\n",
       " 'chat': {'id': 76016759,\n",
       "  'type': 'private',\n",
       "  'title': None,\n",
       "  'username': 'imthecarpenter',\n",
       "  'first_name': 'Alexander',\n",
       "  'last_name': 'Spiridonov',\n",
       "  'photo': None,\n",
       "  'bio': None,\n",
       "  'description': None,\n",
       "  'invite_link': None,\n",
       "  'pinned_message': None,\n",
       "  'permissions': None,\n",
       "  'slow_mode_delay': None,\n",
       "  'sticker_set_name': None,\n",
       "  'can_set_sticker_set': None,\n",
       "  'linked_chat_id': None,\n",
       "  'location': None},\n",
       " 'forward_from': None,\n",
       " 'forward_from_chat': None,\n",
       " 'forward_from_message_id': None,\n",
       " 'forward_signature': None,\n",
       " 'forward_sender_name': None,\n",
       " 'forward_date': None,\n",
       " 'reply_to_message': None,\n",
       " 'edit_date': None,\n",
       " 'media_group_id': None,\n",
       " 'author_signature': None,\n",
       " 'text': 'f',\n",
       " 'entities': None,\n",
       " 'caption_entities': None,\n",
       " 'audio': None,\n",
       " 'document': None,\n",
       " 'photo': None,\n",
       " 'sticker': None,\n",
       " 'video': None,\n",
       " 'video_note': None,\n",
       " 'voice': None,\n",
       " 'caption': None,\n",
       " 'contact': None,\n",
       " 'location': None,\n",
       " 'venue': None,\n",
       " 'animation': None,\n",
       " 'dice': None,\n",
       " 'new_chat_member': None,\n",
       " 'new_chat_members': None,\n",
       " 'left_chat_member': None,\n",
       " 'new_chat_title': None,\n",
       " 'new_chat_photo': None,\n",
       " 'delete_chat_photo': None,\n",
       " 'group_chat_created': None,\n",
       " 'supergroup_chat_created': None,\n",
       " 'channel_chat_created': None,\n",
       " 'migrate_to_chat_id': None,\n",
       " 'migrate_from_chat_id': None,\n",
       " 'pinned_message': None,\n",
       " 'invoice': None,\n",
       " 'successful_payment': None,\n",
       " 'connected_website': None,\n",
       " 'reply_markup': None,\n",
       " 'json': {'message_id': 163,\n",
       "  'from': {'id': 76016759,\n",
       "   'is_bot': False,\n",
       "   'first_name': 'Alexander',\n",
       "   'last_name': 'Spiridonov',\n",
       "   'username': 'imthecarpenter',\n",
       "   'language_code': 'en'},\n",
       "  'chat': {'id': 76016759,\n",
       "   'first_name': 'Alexander',\n",
       "   'last_name': 'Spiridonov',\n",
       "   'username': 'imthecarpenter',\n",
       "   'type': 'private'},\n",
       "  'date': 1653682781,\n",
       "  'text': 'f'}}"
      ]
     },
     "execution_count": 44,
     "metadata": {},
     "output_type": "execute_result"
    }
   ],
   "source": [
    "{'content_type': 'text', 'id': 163, 'message_id': 163, 'from_user': {'id': 76016759, 'is_bot': False, 'first_name': 'Alexander', 'username': 'imthecarpenter', 'last_name': 'Spiridonov', 'language_code': 'en', 'can_join_groups': None, 'can_read_all_group_messages': None, 'supports_inline_queries': None}, 'date': 1653682781, 'chat': {'id': 76016759, 'type': 'private', 'title': None, 'username': 'imthecarpenter', 'first_name': 'Alexander', 'last_name': 'Spiridonov', 'photo': None, 'bio': None, 'description': None, 'invite_link': None, 'pinned_message': None, 'permissions': None, 'slow_mode_delay': None, 'sticker_set_name': None, 'can_set_sticker_set': None, 'linked_chat_id': None, 'location': None}, 'forward_from': None, 'forward_from_chat': None, 'forward_from_message_id': None, 'forward_signature': None, 'forward_sender_name': None, 'forward_date': None, 'reply_to_message': None, 'edit_date': None, 'media_group_id': None, 'author_signature': None, 'text': 'f', 'entities': None, 'caption_entities': None, 'audio': None, 'document': None, 'photo': None, 'sticker': None, 'video': None, 'video_note': None, 'voice': None, 'caption': None, 'contact': None, 'location': None, 'venue': None, 'animation': None, 'dice': None, 'new_chat_member': None, 'new_chat_members': None, 'left_chat_member': None, 'new_chat_title': None, 'new_chat_photo': None, 'delete_chat_photo': None, 'group_chat_created': None, 'supergroup_chat_created': None, 'channel_chat_created': None, 'migrate_to_chat_id': None, 'migrate_from_chat_id': None, 'pinned_message': None, 'invoice': None, 'successful_payment': None, 'connected_website': None, 'reply_markup': None, 'json': {'message_id': 163, 'from': {'id': 76016759, 'is_bot': False, 'first_name': 'Alexander', 'last_name': 'Spiridonov', 'username': 'imthecarpenter', 'language_code': 'en'}, 'chat': {'id': 76016759, 'first_name': 'Alexander', 'last_name': 'Spiridonov', 'username': 'imthecarpenter', 'type': 'private'}, 'date': 1653682781, 'text': 'f'}}"
   ]
  },
  {
   "cell_type": "code",
   "execution_count": 45,
   "id": "5aac0ad1",
   "metadata": {},
   "outputs": [],
   "source": [
    "\n",
    "import os\n",
    "import re\n",
    "import telebot\n",
    "from timer import timer"
   ]
  },
  {
   "cell_type": "code",
   "execution_count": 46,
   "id": "b483b39e",
   "metadata": {},
   "outputs": [],
   "source": [
    "# test \n",
    "BOT_TOKEN = \"574632910:AAFWAN7buAcQe7MNsmu2VnQGCtFYJJh0Ewc\"\n",
    "bot = telebot.TeleBot(BOT_TOKEN)"
   ]
  },
  {
   "cell_type": "code",
   "execution_count": 59,
   "id": "690ae7a1",
   "metadata": {},
   "outputs": [],
   "source": [
    "st_set = bot.get_sticker_set(\"omgitiscooleststickersintheworld\")\n",
    "\n",
    "stickers_id = [st.file_id for st in st_set.stickers]\n",
    "stickers_id"
   ]
  },
  {
   "cell_type": "code",
   "execution_count": 90,
   "id": "3b42b855",
   "metadata": {},
   "outputs": [
    {
     "data": {
      "text/plain": [
       "62"
      ]
     },
     "execution_count": 90,
     "metadata": {},
     "output_type": "execute_result"
    }
   ],
   "source": [
    "len(stickers_id)"
   ]
  },
  {
   "cell_type": "markdown",
   "id": "64bdf821",
   "metadata": {},
   "source": [
    "## Timer"
   ]
  },
  {
   "cell_type": "code",
   "execution_count": 88,
   "id": "9fee9827",
   "metadata": {},
   "outputs": [],
   "source": [
    "from threading import Timer\n",
    "\n",
    "def send_sticker():\n",
    "    print(\"Some sticker has sent\")\n",
    "\n",
    "def newTimer():\n",
    "    global t\n",
    "    t = Timer(3.0, send_sticker)\n"
   ]
  },
  {
   "cell_type": "code",
   "execution_count": 89,
   "id": "4ccab4c9",
   "metadata": {},
   "outputs": [],
   "source": [
    "newTimer()"
   ]
  },
  {
   "cell_type": "code",
   "execution_count": 36,
   "id": "55ef8d57",
   "metadata": {},
   "outputs": [],
   "source": [
    "new_message = True"
   ]
  },
  {
   "cell_type": "code",
   "execution_count": 42,
   "id": "27c94a03",
   "metadata": {},
   "outputs": [],
   "source": [
    "def my_callback():\n",
    "    if new_message:\n",
    "        print('reset timer and start again')\n",
    "        t.cancel()\n",
    "        newTimer()\n",
    "        t.start()\n",
    "        print(\"\\n timer started\")\n",
    "        \n",
    "#     elif something_else_true:\n",
    "#         t.cancel()\n",
    "#         print(\"timer canceled\")\n",
    "#     else:\n",
    "#         t.cancel()\n",
    "#         print('cancel timer for sure')\n",
    "\n"
   ]
  },
  {
   "cell_type": "code",
   "execution_count": 43,
   "id": "1c1fd25e",
   "metadata": {},
   "outputs": [
    {
     "name": "stdout",
     "output_type": "stream",
     "text": [
      "reset timer and start again\n",
      "\n",
      " timer started\n",
      "Some sticker has sent\n"
     ]
    }
   ],
   "source": [
    "if new_message:\n",
    "    my_callback()    "
   ]
  },
  {
   "cell_type": "code",
   "execution_count": null,
   "id": "a472eda3",
   "metadata": {},
   "outputs": [],
   "source": []
  }
 ],
 "metadata": {
  "kernelspec": {
   "display_name": "Python 3",
   "language": "python",
   "name": "python3"
  },
  "language_info": {
   "codemirror_mode": {
    "name": "ipython",
    "version": 3
   },
   "file_extension": ".py",
   "mimetype": "text/x-python",
   "name": "python",
   "nbconvert_exporter": "python",
   "pygments_lexer": "ipython3",
   "version": "3.8.8"
  }
 },
 "nbformat": 4,
 "nbformat_minor": 5
}
